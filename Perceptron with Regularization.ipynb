{
 "cells": [
  {
   "cell_type": "code",
   "execution_count": 125,
   "id": "952588e6",
   "metadata": {},
   "outputs": [],
   "source": [
    "from sklearn.impute import SimpleImputer\n",
    "from sklearn.preprocessing import StandardScaler\n",
    "from sklearn.linear_model import Perceptron\n",
    "from sklearn.metrics import accuracy_score\n",
    "from sklearn.model_selection import train_test_split\n",
    "import numpy as np\n",
    "import pandas as pd\n",
    "\n",
    "from sklearn.linear_model import Perceptron"
   ]
  },
  {
   "cell_type": "code",
   "execution_count": null,
   "id": "947ee56b",
   "metadata": {},
   "outputs": [],
   "source": [
    "# Load the Ionosphere dataset\n",
    "url = 'https://archive.ics.uci.edu/ml/machine-learning-databases/ionosphere/ionosphere.data'\n",
    "data = pd.read_csv(url, header=None)\n",
    "\n",
    "X = data.iloc[:, :-1].values  # Input features\n",
    "y = data.iloc[:, -1].replace({'g': 1, 'b': 0}).values  # Class labels\n",
    "\n",
    "# Split the data into training and test sets\n",
    "X_train, X_test, y_train, y_test = train_test_split(X, y, test_size=0.2, random_state=42)"
   ]
  },
  {
   "cell_type": "code",
   "execution_count": null,
   "id": "fb009a46",
   "metadata": {},
   "outputs": [],
   "source": [
    "X"
   ]
  },
  {
   "cell_type": "code",
   "execution_count": null,
   "id": "84991279",
   "metadata": {},
   "outputs": [],
   "source": [
    "y"
   ]
  },
  {
   "cell_type": "code",
   "execution_count": null,
   "id": "85a7c93b",
   "metadata": {},
   "outputs": [],
   "source": [
    "# # Create a SimpleImputer to fill NaN values with the mean\n",
    "# imputer = SimpleImputer(strategy='mean')\n",
    "\n",
    "# # Fit the imputer on the training data\n",
    "# imputer.fit(X_train)\n",
    "\n",
    "# # Transform the training and test data\n",
    "# X_train_imputed = imputer.transform(X_train)\n",
    "# X_test_imputed = imputer.transform(X_test)\n",
    "\n",
    "# # Apply feature scaling to the input features\n",
    "# scaler = StandardScaler()\n",
    "# X_train_scaled = scaler.fit_transform(X_train_imputed)\n",
    "# X_test_scaled = scaler.transform(X_test_imputed)"
   ]
  },
  {
   "cell_type": "code",
   "execution_count": null,
   "id": "cc1f84e1",
   "metadata": {},
   "outputs": [],
   "source": [
    "# Create and train the perceptron without regularization\n",
    "perceptron_no_reg = Perceptron(penalty=None, random_state=42)\n",
    "perceptron_no_reg.fit(X_train, y_train)\n",
    "\n",
    "# Evaluate on training data\n",
    "y_train_pred_no_reg = perceptron_no_reg.predict(X_train)\n",
    "\n",
    "# Calculate accuracy scores\n",
    "train_accuracy = accuracy_score(y_train, y_train_pred_no_reg)\n",
    "\n",
    "print(\"Perceptron (without regularization) training accuracy: {:.2f}%\".format(train_accuracy * 100))\n",
    "\n",
    "# Evaluate on test data\n",
    "y_test_pred_no_reg = perceptron_no_reg.predict(X_test)\n",
    "\n",
    "# Calculate accuracy scores\n",
    "test_accuracy = accuracy_score(y_test, y_test_pred_no_reg)\n",
    "\n",
    "print(\"Perceptron (without regularization) test accuracy: {:.2f}%\".format(test_accuracy * 100))\n"
   ]
  },
  {
   "cell_type": "code",
   "execution_count": null,
   "id": "16eaffac",
   "metadata": {},
   "outputs": [],
   "source": [
    "# Create and train the perceptron with L1 regularization\n",
    "perceptron_with_reg = Perceptron(penalty='l1', alpha=0.0001, random_state=42)\n",
    "perceptron_with_reg.fit(X_train, y_train)\n",
    "\n",
    "# Evaluate on training data\n",
    "y_train_pred_with_reg = perceptron_with_reg.predict(X_train)\n",
    "\n",
    "\n",
    "# Calculate accuracy scores\n",
    "train_accuracy = accuracy_score(y_train, y_train_pred_with_reg)\n",
    "\n",
    "print(\"Perceptron (with L1 regularization) training accuracy: {:.2f}%\".format(train_accuracy * 100))\n",
    "\n",
    "# Evaluate on test data\n",
    "y_test_pred_with_reg = perceptron_with_reg.predict(X_test)\n",
    "\n",
    "# Calculate accuracy scores\n",
    "test_accuracy = accuracy_score(y_test, y_test_pred_no_reg)\n",
    "\n",
    "print(\"Perceptron (with L1 regularization) test accuracy: {:.2f}%\".format(test_accuracy * 100))"
   ]
  },
  {
   "cell_type": "code",
   "execution_count": null,
   "id": "580601ca",
   "metadata": {},
   "outputs": [],
   "source": [
    "# Create and train the perceptron with L2 regularization\n",
    "perceptron_with_reg = Perceptron(penalty='l2', alpha=0.0001, random_state=42)\n",
    "perceptron_with_reg.fit(X_train, y_train)\n",
    "\n",
    "# Evaluate on training data\n",
    "y_train_pred_with_reg = perceptron_with_reg.predict(X_train)\n",
    "\n",
    "\n",
    "# Calculate accuracy scores\n",
    "train_accuracy = accuracy_score(y_train, y_train_pred_with_reg)\n",
    "\n",
    "print(\"Perceptron (with L2 regularization) training accuracy: {:.2f}%\".format(train_accuracy * 100))\n",
    "\n",
    "# Evaluate on test data\n",
    "y_test_pred_with_reg = perceptron_with_reg.predict(X_test)\n",
    "\n",
    "# Calculate accuracy scores\n",
    "test_accuracy = accuracy_score(y_test, y_test_pred_no_reg)\n",
    "\n",
    "print(\"Perceptron (with L2 regularization) test accuracy: {:.2f}%\".format(test_accuracy * 100))"
   ]
  },
  {
   "cell_type": "code",
   "execution_count": null,
   "id": "e4a1e98f",
   "metadata": {},
   "outputs": [],
   "source": []
  }
 ],
 "metadata": {
  "kernelspec": {
   "display_name": "Python 3 (ipykernel)",
   "language": "python",
   "name": "python3"
  },
  "language_info": {
   "codemirror_mode": {
    "name": "ipython",
    "version": 3
   },
   "file_extension": ".py",
   "mimetype": "text/x-python",
   "name": "python",
   "nbconvert_exporter": "python",
   "pygments_lexer": "ipython3",
   "version": "3.9.12"
  }
 },
 "nbformat": 4,
 "nbformat_minor": 5
}
