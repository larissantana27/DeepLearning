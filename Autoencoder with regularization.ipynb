{
 "cells": [
  {
   "cell_type": "code",
   "execution_count": null,
   "id": "9872492d",
   "metadata": {},
   "outputs": [],
   "source": [
    "import numpy as np\n",
    "import pandas as pd\n",
    "import tensorflow as tf\n",
    "from tensorflow.keras.models import Model\n",
    "from tensorflow.keras.layers import Input, Dense\n",
    "from sklearn.model_selection import train_test_split"
   ]
  },
  {
   "cell_type": "code",
   "execution_count": null,
   "id": "3a201fea",
   "metadata": {},
   "outputs": [],
   "source": [
    "# Load the Ionosphere dataset\n",
    "url = 'https://archive.ics.uci.edu/ml/machine-learning-databases/ionosphere/ionosphere.data'\n",
    "data = pd.read_csv(url, header=None)\n",
    "\n",
    "X = data.iloc[:, :-1].values  # Input features\n",
    "y = data.iloc[:, -1].replace({'g': 1, 'b': 0}).values  # Class labels\n",
    "\n",
    "# Split the data into training and test sets\n",
    "X_train, X_test, y_train, y_test = train_test_split(X, y, test_size=0.2, random_state=42)"
   ]
  },
  {
   "cell_type": "code",
   "execution_count": null,
   "id": "d6e07fb7",
   "metadata": {},
   "outputs": [],
   "source": [
    "# Autoencoder without added noise and weight regularization\n",
    "input_dim = X_train.shape[1]  # Input dimension\n",
    "\n",
    "# Define the autoencoder architecture\n",
    "input_layer = Input(shape=(input_dim,))\n",
    "encoded = Dense(16, activation='relu')(input_layer)  # Hidden layer\n",
    "decoded = Dense(input_dim, activation='sigmoid')(encoded)  # Output layer\n",
    "\n",
    "autoencoder = Model(input_layer, decoded)\n",
    "\n",
    "# Compile the model\n",
    "autoencoder.compile(optimizer='adam', loss='binary_crossentropy')"
   ]
  },
  {
   "cell_type": "code",
   "execution_count": null,
   "id": "8a399b9e",
   "metadata": {},
   "outputs": [],
   "source": [
    "# Train the autoencoder\n",
    "autoencoder.fit(X_train, X_train, epochs=50, batch_size=16, validation_data=(X_test, X_test))"
   ]
  },
  {
   "cell_type": "code",
   "execution_count": null,
   "id": "850772fb",
   "metadata": {},
   "outputs": [],
   "source": [
    "# Add Gaussian noise to the training data\n",
    "noise_factor = 0.2\n",
    "X_train_noisy = X_train + noise_factor * np.random.normal(loc=0.0, scale=1.0, size=X_train.shape)\n",
    "\n",
    "# Clip the noisy data to ensure values are between 0 and 1\n",
    "X_train_noisy = np.clip(X_train_noisy, 0., 1.)\n",
    "\n",
    "# Autoencoder with added Gaussian noise and no weight regularization\n",
    "input_dim = X_train.shape[1]  # Input dimension\n",
    "\n",
    "# Define the autoencoder architecture\n",
    "input_layer = Input(shape=(input_dim,))\n",
    "encoded = Dense(16, activation='relu')(input_layer)  # Hidden layer\n",
    "decoded = Dense(input_dim, activation='sigmoid')(encoded)  # Output layer\n",
    "\n",
    "autoencoder_with_noise = Model(input_layer, decoded)\n",
    "\n",
    "# Compile the model\n",
    "autoencoder_with_noise.compile(optimizer='adam', loss='binary_crossentropy')"
   ]
  },
  {
   "cell_type": "code",
   "execution_count": null,
   "id": "5e17ba35",
   "metadata": {},
   "outputs": [],
   "source": [
    "# Train the autoencoder\n",
    "autoencoder_with_noise.fit(X_train_noisy, X_train, epochs=50, batch_size=16, validation_data=(X_test, X_test))"
   ]
  },
  {
   "cell_type": "code",
   "execution_count": null,
   "id": "41399ecb",
   "metadata": {},
   "outputs": [],
   "source": [
    "# Reconstruct inputs using the trained autoencoders\n",
    "reconstructed = autoencoder.predict(X_test)\n",
    "reconstructed_with_noise = autoencoder_with_noise.predict(X_test)"
   ]
  },
  {
   "cell_type": "code",
   "execution_count": null,
   "id": "9be84b30",
   "metadata": {},
   "outputs": [],
   "source": [
    "# Calculate MSE between original inputs and reconstructed inputs\n",
    "mse = np.mean(np.square(X_test - reconstructed))\n",
    "mse_with_noise = np.mean(np.square(X_test - reconstructed_with_noise))\n",
    "\n",
    "print(\"MSE - Case (a):\", mse)\n",
    "print(\"MSE - Case (b):\", mse_with_noise)"
   ]
  }
 ],
 "metadata": {
  "kernelspec": {
   "display_name": "Python 3 (ipykernel)",
   "language": "python",
   "name": "python3"
  },
  "language_info": {
   "codemirror_mode": {
    "name": "ipython",
    "version": 3
   },
   "file_extension": ".py",
   "mimetype": "text/x-python",
   "name": "python",
   "nbconvert_exporter": "python",
   "pygments_lexer": "ipython3",
   "version": "3.9.12"
  }
 },
 "nbformat": 4,
 "nbformat_minor": 5
}
